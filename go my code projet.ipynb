{
 "cells": [
  {
   "cell_type": "code",
   "execution_count": 19,
   "metadata": {},
   "outputs": [
    {
     "data": {
      "text/html": [
       "<div>\n",
       "<style scoped>\n",
       "    .dataframe tbody tr th:only-of-type {\n",
       "        vertical-align: middle;\n",
       "    }\n",
       "\n",
       "    .dataframe tbody tr th {\n",
       "        vertical-align: top;\n",
       "    }\n",
       "\n",
       "    .dataframe thead th {\n",
       "        text-align: right;\n",
       "    }\n",
       "</style>\n",
       "<table border=\"1\" class=\"dataframe\">\n",
       "  <thead>\n",
       "    <tr style=\"text-align: right;\">\n",
       "      <th></th>\n",
       "      <th>Athlets</th>\n",
       "      <th>100m</th>\n",
       "      <th>Long.jump</th>\n",
       "      <th>Shot.put</th>\n",
       "      <th>High.jump</th>\n",
       "      <th>400m</th>\n",
       "      <th>110m.hurdle</th>\n",
       "      <th>Discus</th>\n",
       "      <th>Pole.vault</th>\n",
       "      <th>Javeline</th>\n",
       "      <th>1500m</th>\n",
       "      <th>Rank</th>\n",
       "      <th>Points</th>\n",
       "      <th>Competition</th>\n",
       "    </tr>\n",
       "  </thead>\n",
       "  <tbody>\n",
       "    <tr>\n",
       "      <th>0</th>\n",
       "      <td>SEBRLE</td>\n",
       "      <td>11.04</td>\n",
       "      <td>7.58</td>\n",
       "      <td>14.83</td>\n",
       "      <td>2.07</td>\n",
       "      <td>49.81</td>\n",
       "      <td>14.69</td>\n",
       "      <td>43.75</td>\n",
       "      <td>5.02</td>\n",
       "      <td>63.19</td>\n",
       "      <td>291.7</td>\n",
       "      <td>1</td>\n",
       "      <td>8217</td>\n",
       "      <td>Decastar</td>\n",
       "    </tr>\n",
       "    <tr>\n",
       "      <th>1</th>\n",
       "      <td>CLAY</td>\n",
       "      <td>10.76</td>\n",
       "      <td>7.40</td>\n",
       "      <td>14.26</td>\n",
       "      <td>1.86</td>\n",
       "      <td>49.37</td>\n",
       "      <td>14.05</td>\n",
       "      <td>50.72</td>\n",
       "      <td>4.92</td>\n",
       "      <td>60.15</td>\n",
       "      <td>301.5</td>\n",
       "      <td>2</td>\n",
       "      <td>8122</td>\n",
       "      <td>Decastar</td>\n",
       "    </tr>\n",
       "    <tr>\n",
       "      <th>2</th>\n",
       "      <td>KARPOV</td>\n",
       "      <td>11.02</td>\n",
       "      <td>7.30</td>\n",
       "      <td>14.77</td>\n",
       "      <td>2.04</td>\n",
       "      <td>48.37</td>\n",
       "      <td>14.09</td>\n",
       "      <td>48.95</td>\n",
       "      <td>4.92</td>\n",
       "      <td>50.31</td>\n",
       "      <td>300.2</td>\n",
       "      <td>3</td>\n",
       "      <td>8099</td>\n",
       "      <td>Decastar</td>\n",
       "    </tr>\n",
       "    <tr>\n",
       "      <th>3</th>\n",
       "      <td>BERNARD</td>\n",
       "      <td>11.02</td>\n",
       "      <td>7.23</td>\n",
       "      <td>14.25</td>\n",
       "      <td>1.92</td>\n",
       "      <td>48.93</td>\n",
       "      <td>14.99</td>\n",
       "      <td>40.87</td>\n",
       "      <td>5.32</td>\n",
       "      <td>62.77</td>\n",
       "      <td>280.1</td>\n",
       "      <td>4</td>\n",
       "      <td>8067</td>\n",
       "      <td>Decastar</td>\n",
       "    </tr>\n",
       "    <tr>\n",
       "      <th>4</th>\n",
       "      <td>YURKOV</td>\n",
       "      <td>11.34</td>\n",
       "      <td>7.09</td>\n",
       "      <td>15.19</td>\n",
       "      <td>2.10</td>\n",
       "      <td>50.42</td>\n",
       "      <td>15.31</td>\n",
       "      <td>46.26</td>\n",
       "      <td>4.72</td>\n",
       "      <td>63.44</td>\n",
       "      <td>276.4</td>\n",
       "      <td>5</td>\n",
       "      <td>8036</td>\n",
       "      <td>Decastar</td>\n",
       "    </tr>\n",
       "  </tbody>\n",
       "</table>\n",
       "</div>"
      ],
      "text/plain": [
       "   Athlets   100m  Long.jump  Shot.put  High.jump   400m  110m.hurdle  Discus  \\\n",
       "0   SEBRLE  11.04       7.58     14.83       2.07  49.81        14.69   43.75   \n",
       "1     CLAY  10.76       7.40     14.26       1.86  49.37        14.05   50.72   \n",
       "2   KARPOV  11.02       7.30     14.77       2.04  48.37        14.09   48.95   \n",
       "3  BERNARD  11.02       7.23     14.25       1.92  48.93        14.99   40.87   \n",
       "4   YURKOV  11.34       7.09     15.19       2.10  50.42        15.31   46.26   \n",
       "\n",
       "   Pole.vault  Javeline  1500m  Rank  Points Competition  \n",
       "0        5.02     63.19  291.7     1    8217    Decastar  \n",
       "1        4.92     60.15  301.5     2    8122    Decastar  \n",
       "2        4.92     50.31  300.2     3    8099    Decastar  \n",
       "3        5.32     62.77  280.1     4    8067    Decastar  \n",
       "4        4.72     63.44  276.4     5    8036    Decastar  "
      ]
     },
     "execution_count": 19,
     "metadata": {},
     "output_type": "execute_result"
    }
   ],
   "source": [
    "import pandas as pd\n",
    "df = pd.read_csv ('Athlets.csv' , encoding =\"ISO-8859-1\")\n",
    "df.head()"
   ]
  },
  {
   "cell_type": "code",
   "execution_count": 20,
   "metadata": {},
   "outputs": [
    {
     "data": {
      "text/plain": [
       "(41, 14)"
      ]
     },
     "execution_count": 20,
     "metadata": {},
     "output_type": "execute_result"
    }
   ],
   "source": [
    "df.shape"
   ]
  },
  {
   "cell_type": "code",
   "execution_count": 34,
   "metadata": {},
   "outputs": [
    {
     "data": {
      "text/html": [
       "<div>\n",
       "<style scoped>\n",
       "    .dataframe tbody tr th:only-of-type {\n",
       "        vertical-align: middle;\n",
       "    }\n",
       "\n",
       "    .dataframe tbody tr th {\n",
       "        vertical-align: top;\n",
       "    }\n",
       "\n",
       "    .dataframe thead th {\n",
       "        text-align: right;\n",
       "    }\n",
       "</style>\n",
       "<table border=\"1\" class=\"dataframe\">\n",
       "  <thead>\n",
       "    <tr style=\"text-align: right;\">\n",
       "      <th>col_0</th>\n",
       "      <th>count</th>\n",
       "    </tr>\n",
       "    <tr>\n",
       "      <th>100m</th>\n",
       "      <th></th>\n",
       "    </tr>\n",
       "  </thead>\n",
       "  <tbody>\n",
       "    <tr>\n",
       "      <th>10.44</th>\n",
       "      <td>1</td>\n",
       "    </tr>\n",
       "    <tr>\n",
       "      <th>10.50</th>\n",
       "      <td>1</td>\n",
       "    </tr>\n",
       "    <tr>\n",
       "      <th>10.55</th>\n",
       "      <td>1</td>\n",
       "    </tr>\n",
       "    <tr>\n",
       "      <th>10.62</th>\n",
       "      <td>1</td>\n",
       "    </tr>\n",
       "    <tr>\n",
       "      <th>10.68</th>\n",
       "      <td>1</td>\n",
       "    </tr>\n",
       "    <tr>\n",
       "      <th>10.69</th>\n",
       "      <td>1</td>\n",
       "    </tr>\n",
       "    <tr>\n",
       "      <th>10.76</th>\n",
       "      <td>1</td>\n",
       "    </tr>\n",
       "    <tr>\n",
       "      <th>10.80</th>\n",
       "      <td>1</td>\n",
       "    </tr>\n",
       "    <tr>\n",
       "      <th>10.83</th>\n",
       "      <td>1</td>\n",
       "    </tr>\n",
       "    <tr>\n",
       "      <th>10.85</th>\n",
       "      <td>2</td>\n",
       "    </tr>\n",
       "    <tr>\n",
       "      <th>10.86</th>\n",
       "      <td>1</td>\n",
       "    </tr>\n",
       "    <tr>\n",
       "      <th>10.87</th>\n",
       "      <td>1</td>\n",
       "    </tr>\n",
       "    <tr>\n",
       "      <th>10.89</th>\n",
       "      <td>2</td>\n",
       "    </tr>\n",
       "    <tr>\n",
       "      <th>10.90</th>\n",
       "      <td>1</td>\n",
       "    </tr>\n",
       "    <tr>\n",
       "      <th>10.91</th>\n",
       "      <td>1</td>\n",
       "    </tr>\n",
       "    <tr>\n",
       "      <th>10.92</th>\n",
       "      <td>1</td>\n",
       "    </tr>\n",
       "    <tr>\n",
       "      <th>10.95</th>\n",
       "      <td>1</td>\n",
       "    </tr>\n",
       "    <tr>\n",
       "      <th>10.97</th>\n",
       "      <td>1</td>\n",
       "    </tr>\n",
       "    <tr>\n",
       "      <th>10.98</th>\n",
       "      <td>1</td>\n",
       "    </tr>\n",
       "    <tr>\n",
       "      <th>11.02</th>\n",
       "      <td>2</td>\n",
       "    </tr>\n",
       "    <tr>\n",
       "      <th>11.04</th>\n",
       "      <td>1</td>\n",
       "    </tr>\n",
       "    <tr>\n",
       "      <th>11.06</th>\n",
       "      <td>1</td>\n",
       "    </tr>\n",
       "    <tr>\n",
       "      <th>11.08</th>\n",
       "      <td>2</td>\n",
       "    </tr>\n",
       "    <tr>\n",
       "      <th>11.10</th>\n",
       "      <td>1</td>\n",
       "    </tr>\n",
       "    <tr>\n",
       "      <th>11.11</th>\n",
       "      <td>1</td>\n",
       "    </tr>\n",
       "    <tr>\n",
       "      <th>11.13</th>\n",
       "      <td>1</td>\n",
       "    </tr>\n",
       "    <tr>\n",
       "      <th>11.14</th>\n",
       "      <td>2</td>\n",
       "    </tr>\n",
       "    <tr>\n",
       "      <th>11.23</th>\n",
       "      <td>1</td>\n",
       "    </tr>\n",
       "    <tr>\n",
       "      <th>11.33</th>\n",
       "      <td>3</td>\n",
       "    </tr>\n",
       "    <tr>\n",
       "      <th>11.34</th>\n",
       "      <td>1</td>\n",
       "    </tr>\n",
       "    <tr>\n",
       "      <th>11.36</th>\n",
       "      <td>2</td>\n",
       "    </tr>\n",
       "    <tr>\n",
       "      <th>11.37</th>\n",
       "      <td>1</td>\n",
       "    </tr>\n",
       "    <tr>\n",
       "      <th>11.64</th>\n",
       "      <td>1</td>\n",
       "    </tr>\n",
       "  </tbody>\n",
       "</table>\n",
       "</div>"
      ],
      "text/plain": [
       "col_0  count\n",
       "100m        \n",
       "10.44      1\n",
       "10.50      1\n",
       "10.55      1\n",
       "10.62      1\n",
       "10.68      1\n",
       "10.69      1\n",
       "10.76      1\n",
       "10.80      1\n",
       "10.83      1\n",
       "10.85      2\n",
       "10.86      1\n",
       "10.87      1\n",
       "10.89      2\n",
       "10.90      1\n",
       "10.91      1\n",
       "10.92      1\n",
       "10.95      1\n",
       "10.97      1\n",
       "10.98      1\n",
       "11.02      2\n",
       "11.04      1\n",
       "11.06      1\n",
       "11.08      2\n",
       "11.10      1\n",
       "11.11      1\n",
       "11.13      1\n",
       "11.14      2\n",
       "11.23      1\n",
       "11.33      3\n",
       "11.34      1\n",
       "11.36      2\n",
       "11.37      1\n",
       "11.64      1"
      ]
     },
     "execution_count": 34,
     "metadata": {},
     "output_type": "execute_result"
    }
   ],
   "source": [
    "pd.crosstab(index=df['100m'] , columns=\"count\")"
   ]
  },
  {
   "cell_type": "code",
   "execution_count": 35,
   "metadata": {},
   "outputs": [
    {
     "data": {
      "text/html": [
       "<div>\n",
       "<style scoped>\n",
       "    .dataframe tbody tr th:only-of-type {\n",
       "        vertical-align: middle;\n",
       "    }\n",
       "\n",
       "    .dataframe tbody tr th {\n",
       "        vertical-align: top;\n",
       "    }\n",
       "\n",
       "    .dataframe thead th {\n",
       "        text-align: right;\n",
       "    }\n",
       "</style>\n",
       "<table border=\"1\" class=\"dataframe\">\n",
       "  <thead>\n",
       "    <tr style=\"text-align: right;\">\n",
       "      <th>col_0</th>\n",
       "      <th>count</th>\n",
       "    </tr>\n",
       "    <tr>\n",
       "      <th>400m</th>\n",
       "      <th></th>\n",
       "    </tr>\n",
       "  </thead>\n",
       "  <tbody>\n",
       "    <tr>\n",
       "      <th>46.81</th>\n",
       "      <td>1</td>\n",
       "    </tr>\n",
       "    <tr>\n",
       "      <th>47.97</th>\n",
       "      <td>1</td>\n",
       "    </tr>\n",
       "    <tr>\n",
       "      <th>48.36</th>\n",
       "      <td>1</td>\n",
       "    </tr>\n",
       "    <tr>\n",
       "      <th>48.37</th>\n",
       "      <td>1</td>\n",
       "    </tr>\n",
       "    <tr>\n",
       "      <th>48.51</th>\n",
       "      <td>1</td>\n",
       "    </tr>\n",
       "    <tr>\n",
       "      <th>48.61</th>\n",
       "      <td>1</td>\n",
       "    </tr>\n",
       "    <tr>\n",
       "      <th>48.62</th>\n",
       "      <td>1</td>\n",
       "    </tr>\n",
       "    <tr>\n",
       "      <th>48.68</th>\n",
       "      <td>1</td>\n",
       "    </tr>\n",
       "    <tr>\n",
       "      <th>48.73</th>\n",
       "      <td>1</td>\n",
       "    </tr>\n",
       "    <tr>\n",
       "      <th>48.81</th>\n",
       "      <td>1</td>\n",
       "    </tr>\n",
       "    <tr>\n",
       "      <th>48.93</th>\n",
       "      <td>1</td>\n",
       "    </tr>\n",
       "    <tr>\n",
       "      <th>48.97</th>\n",
       "      <td>1</td>\n",
       "    </tr>\n",
       "    <tr>\n",
       "      <th>49.11</th>\n",
       "      <td>1</td>\n",
       "    </tr>\n",
       "    <tr>\n",
       "      <th>49.12</th>\n",
       "      <td>1</td>\n",
       "    </tr>\n",
       "    <tr>\n",
       "      <th>49.13</th>\n",
       "      <td>1</td>\n",
       "    </tr>\n",
       "    <tr>\n",
       "      <th>49.19</th>\n",
       "      <td>1</td>\n",
       "    </tr>\n",
       "    <tr>\n",
       "      <th>49.20</th>\n",
       "      <td>1</td>\n",
       "    </tr>\n",
       "    <tr>\n",
       "      <th>49.27</th>\n",
       "      <td>1</td>\n",
       "    </tr>\n",
       "    <tr>\n",
       "      <th>49.34</th>\n",
       "      <td>1</td>\n",
       "    </tr>\n",
       "    <tr>\n",
       "      <th>49.37</th>\n",
       "      <td>1</td>\n",
       "    </tr>\n",
       "    <tr>\n",
       "      <th>49.40</th>\n",
       "      <td>1</td>\n",
       "    </tr>\n",
       "    <tr>\n",
       "      <th>49.41</th>\n",
       "      <td>1</td>\n",
       "    </tr>\n",
       "    <tr>\n",
       "      <th>49.48</th>\n",
       "      <td>1</td>\n",
       "    </tr>\n",
       "    <tr>\n",
       "      <th>49.56</th>\n",
       "      <td>1</td>\n",
       "    </tr>\n",
       "    <tr>\n",
       "      <th>49.65</th>\n",
       "      <td>1</td>\n",
       "    </tr>\n",
       "    <tr>\n",
       "      <th>49.72</th>\n",
       "      <td>1</td>\n",
       "    </tr>\n",
       "    <tr>\n",
       "      <th>49.76</th>\n",
       "      <td>1</td>\n",
       "    </tr>\n",
       "    <tr>\n",
       "      <th>49.81</th>\n",
       "      <td>1</td>\n",
       "    </tr>\n",
       "    <tr>\n",
       "      <th>49.91</th>\n",
       "      <td>1</td>\n",
       "    </tr>\n",
       "    <tr>\n",
       "      <th>50.14</th>\n",
       "      <td>1</td>\n",
       "    </tr>\n",
       "    <tr>\n",
       "      <th>50.30</th>\n",
       "      <td>1</td>\n",
       "    </tr>\n",
       "    <tr>\n",
       "      <th>50.42</th>\n",
       "      <td>1</td>\n",
       "    </tr>\n",
       "    <tr>\n",
       "      <th>50.54</th>\n",
       "      <td>1</td>\n",
       "    </tr>\n",
       "    <tr>\n",
       "      <th>50.79</th>\n",
       "      <td>1</td>\n",
       "    </tr>\n",
       "    <tr>\n",
       "      <th>50.95</th>\n",
       "      <td>1</td>\n",
       "    </tr>\n",
       "    <tr>\n",
       "      <th>51.04</th>\n",
       "      <td>1</td>\n",
       "    </tr>\n",
       "    <tr>\n",
       "      <th>51.10</th>\n",
       "      <td>1</td>\n",
       "    </tr>\n",
       "    <tr>\n",
       "      <th>51.16</th>\n",
       "      <td>2</td>\n",
       "    </tr>\n",
       "    <tr>\n",
       "      <th>51.67</th>\n",
       "      <td>1</td>\n",
       "    </tr>\n",
       "    <tr>\n",
       "      <th>53.20</th>\n",
       "      <td>1</td>\n",
       "    </tr>\n",
       "  </tbody>\n",
       "</table>\n",
       "</div>"
      ],
      "text/plain": [
       "col_0  count\n",
       "400m        \n",
       "46.81      1\n",
       "47.97      1\n",
       "48.36      1\n",
       "48.37      1\n",
       "48.51      1\n",
       "48.61      1\n",
       "48.62      1\n",
       "48.68      1\n",
       "48.73      1\n",
       "48.81      1\n",
       "48.93      1\n",
       "48.97      1\n",
       "49.11      1\n",
       "49.12      1\n",
       "49.13      1\n",
       "49.19      1\n",
       "49.20      1\n",
       "49.27      1\n",
       "49.34      1\n",
       "49.37      1\n",
       "49.40      1\n",
       "49.41      1\n",
       "49.48      1\n",
       "49.56      1\n",
       "49.65      1\n",
       "49.72      1\n",
       "49.76      1\n",
       "49.81      1\n",
       "49.91      1\n",
       "50.14      1\n",
       "50.30      1\n",
       "50.42      1\n",
       "50.54      1\n",
       "50.79      1\n",
       "50.95      1\n",
       "51.04      1\n",
       "51.10      1\n",
       "51.16      2\n",
       "51.67      1\n",
       "53.20      1"
      ]
     },
     "execution_count": 35,
     "metadata": {},
     "output_type": "execute_result"
    }
   ],
   "source": [
    "pd.crosstab(index=df['400m'] , columns=\"count\")"
   ]
  },
  {
   "cell_type": "code",
   "execution_count": 36,
   "metadata": {},
   "outputs": [
    {
     "data": {
      "text/html": [
       "<div>\n",
       "<style scoped>\n",
       "    .dataframe tbody tr th:only-of-type {\n",
       "        vertical-align: middle;\n",
       "    }\n",
       "\n",
       "    .dataframe tbody tr th {\n",
       "        vertical-align: top;\n",
       "    }\n",
       "\n",
       "    .dataframe thead th {\n",
       "        text-align: right;\n",
       "    }\n",
       "</style>\n",
       "<table border=\"1\" class=\"dataframe\">\n",
       "  <thead>\n",
       "    <tr style=\"text-align: right;\">\n",
       "      <th></th>\n",
       "      <th>100m</th>\n",
       "      <th>Long.jump</th>\n",
       "      <th>Shot.put</th>\n",
       "      <th>High.jump</th>\n",
       "      <th>400m</th>\n",
       "      <th>110m.hurdle</th>\n",
       "      <th>Discus</th>\n",
       "      <th>Pole.vault</th>\n",
       "      <th>Javeline</th>\n",
       "      <th>1500m</th>\n",
       "      <th>Rank</th>\n",
       "      <th>Points</th>\n",
       "    </tr>\n",
       "  </thead>\n",
       "  <tbody>\n",
       "    <tr>\n",
       "      <th>count</th>\n",
       "      <td>41.000000</td>\n",
       "      <td>41.000000</td>\n",
       "      <td>41.000000</td>\n",
       "      <td>41.000000</td>\n",
       "      <td>41.000000</td>\n",
       "      <td>41.000000</td>\n",
       "      <td>41.000000</td>\n",
       "      <td>41.000000</td>\n",
       "      <td>41.000000</td>\n",
       "      <td>41.000000</td>\n",
       "      <td>41.000000</td>\n",
       "      <td>41.000000</td>\n",
       "    </tr>\n",
       "    <tr>\n",
       "      <th>mean</th>\n",
       "      <td>10.998049</td>\n",
       "      <td>7.260000</td>\n",
       "      <td>14.477073</td>\n",
       "      <td>1.976829</td>\n",
       "      <td>49.616341</td>\n",
       "      <td>14.605854</td>\n",
       "      <td>44.325610</td>\n",
       "      <td>4.762439</td>\n",
       "      <td>58.316585</td>\n",
       "      <td>279.024878</td>\n",
       "      <td>12.121951</td>\n",
       "      <td>8005.365854</td>\n",
       "    </tr>\n",
       "    <tr>\n",
       "      <th>std</th>\n",
       "      <td>0.263023</td>\n",
       "      <td>0.316402</td>\n",
       "      <td>0.824428</td>\n",
       "      <td>0.088951</td>\n",
       "      <td>1.153451</td>\n",
       "      <td>0.471789</td>\n",
       "      <td>3.377845</td>\n",
       "      <td>0.278000</td>\n",
       "      <td>4.826820</td>\n",
       "      <td>11.673247</td>\n",
       "      <td>7.918949</td>\n",
       "      <td>342.385145</td>\n",
       "    </tr>\n",
       "    <tr>\n",
       "      <th>min</th>\n",
       "      <td>10.440000</td>\n",
       "      <td>6.610000</td>\n",
       "      <td>12.680000</td>\n",
       "      <td>1.850000</td>\n",
       "      <td>46.810000</td>\n",
       "      <td>13.970000</td>\n",
       "      <td>37.920000</td>\n",
       "      <td>4.200000</td>\n",
       "      <td>50.310000</td>\n",
       "      <td>262.100000</td>\n",
       "      <td>1.000000</td>\n",
       "      <td>7313.000000</td>\n",
       "    </tr>\n",
       "    <tr>\n",
       "      <th>25%</th>\n",
       "      <td>10.850000</td>\n",
       "      <td>7.030000</td>\n",
       "      <td>13.880000</td>\n",
       "      <td>1.920000</td>\n",
       "      <td>48.930000</td>\n",
       "      <td>14.210000</td>\n",
       "      <td>41.900000</td>\n",
       "      <td>4.500000</td>\n",
       "      <td>55.270000</td>\n",
       "      <td>271.020000</td>\n",
       "      <td>6.000000</td>\n",
       "      <td>7802.000000</td>\n",
       "    </tr>\n",
       "    <tr>\n",
       "      <th>50%</th>\n",
       "      <td>10.980000</td>\n",
       "      <td>7.300000</td>\n",
       "      <td>14.570000</td>\n",
       "      <td>1.950000</td>\n",
       "      <td>49.400000</td>\n",
       "      <td>14.480000</td>\n",
       "      <td>44.410000</td>\n",
       "      <td>4.800000</td>\n",
       "      <td>58.360000</td>\n",
       "      <td>278.050000</td>\n",
       "      <td>11.000000</td>\n",
       "      <td>8021.000000</td>\n",
       "    </tr>\n",
       "    <tr>\n",
       "      <th>75%</th>\n",
       "      <td>11.140000</td>\n",
       "      <td>7.480000</td>\n",
       "      <td>14.970000</td>\n",
       "      <td>2.040000</td>\n",
       "      <td>50.300000</td>\n",
       "      <td>14.980000</td>\n",
       "      <td>46.070000</td>\n",
       "      <td>4.920000</td>\n",
       "      <td>60.890000</td>\n",
       "      <td>285.100000</td>\n",
       "      <td>18.000000</td>\n",
       "      <td>8122.000000</td>\n",
       "    </tr>\n",
       "    <tr>\n",
       "      <th>max</th>\n",
       "      <td>11.640000</td>\n",
       "      <td>7.960000</td>\n",
       "      <td>16.360000</td>\n",
       "      <td>2.150000</td>\n",
       "      <td>53.200000</td>\n",
       "      <td>15.670000</td>\n",
       "      <td>51.650000</td>\n",
       "      <td>5.400000</td>\n",
       "      <td>70.520000</td>\n",
       "      <td>317.000000</td>\n",
       "      <td>28.000000</td>\n",
       "      <td>8893.000000</td>\n",
       "    </tr>\n",
       "  </tbody>\n",
       "</table>\n",
       "</div>"
      ],
      "text/plain": [
       "            100m  Long.jump   Shot.put  High.jump       400m  110m.hurdle  \\\n",
       "count  41.000000  41.000000  41.000000  41.000000  41.000000    41.000000   \n",
       "mean   10.998049   7.260000  14.477073   1.976829  49.616341    14.605854   \n",
       "std     0.263023   0.316402   0.824428   0.088951   1.153451     0.471789   \n",
       "min    10.440000   6.610000  12.680000   1.850000  46.810000    13.970000   \n",
       "25%    10.850000   7.030000  13.880000   1.920000  48.930000    14.210000   \n",
       "50%    10.980000   7.300000  14.570000   1.950000  49.400000    14.480000   \n",
       "75%    11.140000   7.480000  14.970000   2.040000  50.300000    14.980000   \n",
       "max    11.640000   7.960000  16.360000   2.150000  53.200000    15.670000   \n",
       "\n",
       "          Discus  Pole.vault   Javeline       1500m       Rank       Points  \n",
       "count  41.000000   41.000000  41.000000   41.000000  41.000000    41.000000  \n",
       "mean   44.325610    4.762439  58.316585  279.024878  12.121951  8005.365854  \n",
       "std     3.377845    0.278000   4.826820   11.673247   7.918949   342.385145  \n",
       "min    37.920000    4.200000  50.310000  262.100000   1.000000  7313.000000  \n",
       "25%    41.900000    4.500000  55.270000  271.020000   6.000000  7802.000000  \n",
       "50%    44.410000    4.800000  58.360000  278.050000  11.000000  8021.000000  \n",
       "75%    46.070000    4.920000  60.890000  285.100000  18.000000  8122.000000  \n",
       "max    51.650000    5.400000  70.520000  317.000000  28.000000  8893.000000  "
      ]
     },
     "execution_count": 36,
     "metadata": {},
     "output_type": "execute_result"
    }
   ],
   "source": [
    "df.describe()"
   ]
  },
  {
   "cell_type": "code",
   "execution_count": 39,
   "metadata": {},
   "outputs": [
    {
     "data": {
      "image/png": "[encoded data removed]",
      "text/plain": [
       "<Figure size 864x504 with 1 Axes>"
      ]
     },
     "metadata": {
      "needs_background": "light"
     },
     "output_type": "display_data"
    }
   ],
   "source": [
    "Type_count = df['100m'].value_counts()\n",
    "plt.figure(figsize = (12,7) )\n",
    "sns.barplot (Type_count.index , Type_count.values , alpha = 0.9)\n",
    "plt.title ('score  : 100m')\n",
    "plt.xlabel ('score :   100m' , fontsize = 12)\n",
    "\n",
    "plt.ylabel ('Score : 400m' , fontsize = 12)\n",
    "plt.xticks(rotation=90)\n",
    "plt.show()"
   ]
  },
  {
   "cell_type": "code",
   "execution_count": 41,
   "metadata": {},
   "outputs": [
    {
     "ename": "AttributeError",
     "evalue": "'DataFrame' object has no attribute 'Type'",
     "output_type": "error",
     "traceback": [
      "\u001b[1;31m---------------------------------------------------------------------------\u001b[0m",
      "\u001b[1;31mAttributeError\u001b[0m                            Traceback (most recent call last)",
      "\u001b[1;32m<ipython-input-41-21052974b9ad>\u001b[0m in \u001b[0;36m<module>\u001b[1;34m\u001b[0m\n\u001b[1;32m----> 1\u001b[1;33m \u001b[0mdf\u001b[0m\u001b[1;33m.\u001b[0m\u001b[0mType\u001b[0m\u001b[1;33m.\u001b[0m\u001b[0mvalue_counts\u001b[0m\u001b[1;33m(\u001b[0m\u001b[1;33m)\u001b[0m\u001b[1;33m.\u001b[0m\u001b[0mplot\u001b[0m\u001b[1;33m.\u001b[0m\u001b[0mbox\u001b[0m\u001b[1;33m(\u001b[0m\u001b[1;33m)\u001b[0m\u001b[1;33m\u001b[0m\u001b[1;33m\u001b[0m\u001b[0m\n\u001b[0m",
      "\u001b[1;32mC:\\ProgramData\\Anaconda3\\lib\\site-packages\\pandas\\core\\generic.py\u001b[0m in \u001b[0;36m__getattr__\u001b[1;34m(self, name)\u001b[0m\n\u001b[0;32m   5065\u001b[0m             \u001b[1;32mif\u001b[0m \u001b[0mself\u001b[0m\u001b[1;33m.\u001b[0m\u001b[0m_info_axis\u001b[0m\u001b[1;33m.\u001b[0m\u001b[0m_can_hold_identifiers_and_holds_name\u001b[0m\u001b[1;33m(\u001b[0m\u001b[0mname\u001b[0m\u001b[1;33m)\u001b[0m\u001b[1;33m:\u001b[0m\u001b[1;33m\u001b[0m\u001b[1;33m\u001b[0m\u001b[0m\n\u001b[0;32m   5066\u001b[0m                 \u001b[1;32mreturn\u001b[0m \u001b[0mself\u001b[0m\u001b[1;33m[\u001b[0m\u001b[0mname\u001b[0m\u001b[1;33m]\u001b[0m\u001b[1;33m\u001b[0m\u001b[1;33m\u001b[0m\u001b[0m\n\u001b[1;32m-> 5067\u001b[1;33m             \u001b[1;32mreturn\u001b[0m \u001b[0mobject\u001b[0m\u001b[1;33m.\u001b[0m\u001b[0m__getattribute__\u001b[0m\u001b[1;33m(\u001b[0m\u001b[0mself\u001b[0m\u001b[1;33m,\u001b[0m \u001b[0mname\u001b[0m\u001b[1;33m)\u001b[0m\u001b[1;33m\u001b[0m\u001b[1;33m\u001b[0m\u001b[0m\n\u001b[0m\u001b[0;32m   5068\u001b[0m \u001b[1;33m\u001b[0m\u001b[0m\n\u001b[0;32m   5069\u001b[0m     \u001b[1;32mdef\u001b[0m \u001b[0m__setattr__\u001b[0m\u001b[1;33m(\u001b[0m\u001b[0mself\u001b[0m\u001b[1;33m,\u001b[0m \u001b[0mname\u001b[0m\u001b[1;33m,\u001b[0m \u001b[0mvalue\u001b[0m\u001b[1;33m)\u001b[0m\u001b[1;33m:\u001b[0m\u001b[1;33m\u001b[0m\u001b[1;33m\u001b[0m\u001b[0m\n",
      "\u001b[1;31mAttributeError\u001b[0m: 'DataFrame' object has no attribute 'Type'"
     ]
    }
   ],
   "source": [
    "df.Type.value_counts().plot.box()"
   ]
  },
  {
   "cell_type": "code",
   "execution_count": 21,
   "metadata": {},
   "outputs": [
    {
     "data": {
      "text/plain": [
       "<seaborn.axisgrid.FacetGrid at 0x19adf93cd30>"
      ]
     },
     "execution_count": 21,
     "metadata": {},
     "output_type": "execute_result"
    },
    {
     "data": {
      "image/png": "[encoded data removed]",
      "text/plain": [
       "<Figure size 444.5x360 with 1 Axes>"
      ]
     },
     "metadata": {
      "needs_background": "light"
     },
     "output_type": "display_data"
    }
   ],
   "source": [
    "import seaborn as sns\n",
    "\n",
    "sns.lmplot(x='100m' , y='400m' , data = df ,\n",
    "           fit_reg = False ,      # No regresion line \n",
    "           hue = 'Competition' )  # Color by evolution stage "
   ]
  },
  {
   "cell_type": "code",
   "execution_count": 22,
   "metadata": {},
   "outputs": [
    {
     "data": {
      "text/plain": [
       "<matplotlib.axes._subplots.AxesSubplot at 0x19addfc6048>"
      ]
     },
     "execution_count": 22,
     "metadata": {},
     "output_type": "execute_result"
    },
    {
     "data": {
      "image/png": "[encoded data removed]",
      "text/plain": [
       "<Figure size 432x288 with 1 Axes>"
      ]
     },
     "metadata": {
      "needs_background": "light"
     },
     "output_type": "display_data"
    }
   ],
   "source": [
    "sns.boxplot(data = df['400m'] , color = 'red')"
   ]
  },
  {
   "cell_type": "markdown",
   "metadata": {},
   "source": [
    "## Density plot"
   ]
  },
  {
   "cell_type": "code",
   "execution_count": 23,
   "metadata": {},
   "outputs": [
    {
     "data": {
      "text/plain": [
       "<matplotlib.axes._subplots.AxesSubplot at 0x19ade00f358>"
      ]
     },
     "execution_count": 23,
     "metadata": {},
     "output_type": "execute_result"
    },
    {
     "data": {
      "image/png": "[encoded data removed]",
      "text/plain": [
       "<Figure size 432x288 with 1 Axes>"
      ]
     },
     "metadata": {
      "needs_background": "light"
     },
     "output_type": "display_data"
    }
   ],
   "source": [
    "sns.kdeplot(df['100m'] , df['400m'])"
   ]
  },
  {
   "cell_type": "markdown",
   "metadata": {},
   "source": [
    "## Joint Distribuation plot"
   ]
  },
  {
   "cell_type": "code",
   "execution_count": 24,
   "metadata": {},
   "outputs": [
    {
     "data": {
      "text/plain": [
       "<seaborn.axisgrid.JointGrid at 0x19adf902860>"
      ]
     },
     "execution_count": 24,
     "metadata": {},
     "output_type": "execute_result"
    },
    {
     "data": {
      "image/png": "[encoded data removed]",
      "text/plain": [
       "<Figure size 432x432 with 3 Axes>"
      ]
     },
     "metadata": {
      "needs_background": "light"
     },
     "output_type": "display_data"
    }
   ],
   "source": [
    "sns.jointplot (x='100m' , y='400m' , data = df)"
   ]
  },
  {
   "cell_type": "code",
   "execution_count": 25,
   "metadata": {},
   "outputs": [
    {
     "data": {
      "text/html": [
       "<div>\n",
       "<style scoped>\n",
       "    .dataframe tbody tr th:only-of-type {\n",
       "        vertical-align: middle;\n",
       "    }\n",
       "\n",
       "    .dataframe tbody tr th {\n",
       "        vertical-align: top;\n",
       "    }\n",
       "\n",
       "    .dataframe thead th {\n",
       "        text-align: right;\n",
       "    }\n",
       "</style>\n",
       "<table border=\"1\" class=\"dataframe\">\n",
       "  <thead>\n",
       "    <tr style=\"text-align: right;\">\n",
       "      <th></th>\n",
       "      <th>100m</th>\n",
       "      <th>Long.jump</th>\n",
       "      <th>Shot.put</th>\n",
       "      <th>High.jump</th>\n",
       "      <th>400m</th>\n",
       "      <th>110m.hurdle</th>\n",
       "      <th>Discus</th>\n",
       "      <th>Pole.vault</th>\n",
       "      <th>Javeline</th>\n",
       "      <th>1500m</th>\n",
       "      <th>Rank</th>\n",
       "      <th>Points</th>\n",
       "    </tr>\n",
       "  </thead>\n",
       "  <tbody>\n",
       "    <tr>\n",
       "      <th>count</th>\n",
       "      <td>41.000000</td>\n",
       "      <td>41.000000</td>\n",
       "      <td>41.000000</td>\n",
       "      <td>41.000000</td>\n",
       "      <td>41.000000</td>\n",
       "      <td>41.000000</td>\n",
       "      <td>41.000000</td>\n",
       "      <td>41.000000</td>\n",
       "      <td>41.000000</td>\n",
       "      <td>41.000000</td>\n",
       "      <td>41.000000</td>\n",
       "      <td>41.000000</td>\n",
       "    </tr>\n",
       "    <tr>\n",
       "      <th>mean</th>\n",
       "      <td>10.998049</td>\n",
       "      <td>7.260000</td>\n",
       "      <td>14.477073</td>\n",
       "      <td>1.976829</td>\n",
       "      <td>49.616341</td>\n",
       "      <td>14.605854</td>\n",
       "      <td>44.325610</td>\n",
       "      <td>4.762439</td>\n",
       "      <td>58.316585</td>\n",
       "      <td>279.024878</td>\n",
       "      <td>12.121951</td>\n",
       "      <td>8005.365854</td>\n",
       "    </tr>\n",
       "    <tr>\n",
       "      <th>std</th>\n",
       "      <td>0.263023</td>\n",
       "      <td>0.316402</td>\n",
       "      <td>0.824428</td>\n",
       "      <td>0.088951</td>\n",
       "      <td>1.153451</td>\n",
       "      <td>0.471789</td>\n",
       "      <td>3.377845</td>\n",
       "      <td>0.278000</td>\n",
       "      <td>4.826820</td>\n",
       "      <td>11.673247</td>\n",
       "      <td>7.918949</td>\n",
       "      <td>342.385145</td>\n",
       "    </tr>\n",
       "    <tr>\n",
       "      <th>min</th>\n",
       "      <td>10.440000</td>\n",
       "      <td>6.610000</td>\n",
       "      <td>12.680000</td>\n",
       "      <td>1.850000</td>\n",
       "      <td>46.810000</td>\n",
       "      <td>13.970000</td>\n",
       "      <td>37.920000</td>\n",
       "      <td>4.200000</td>\n",
       "      <td>50.310000</td>\n",
       "      <td>262.100000</td>\n",
       "      <td>1.000000</td>\n",
       "      <td>7313.000000</td>\n",
       "    </tr>\n",
       "    <tr>\n",
       "      <th>25%</th>\n",
       "      <td>10.850000</td>\n",
       "      <td>7.030000</td>\n",
       "      <td>13.880000</td>\n",
       "      <td>1.920000</td>\n",
       "      <td>48.930000</td>\n",
       "      <td>14.210000</td>\n",
       "      <td>41.900000</td>\n",
       "      <td>4.500000</td>\n",
       "      <td>55.270000</td>\n",
       "      <td>271.020000</td>\n",
       "      <td>6.000000</td>\n",
       "      <td>7802.000000</td>\n",
       "    </tr>\n",
       "    <tr>\n",
       "      <th>50%</th>\n",
       "      <td>10.980000</td>\n",
       "      <td>7.300000</td>\n",
       "      <td>14.570000</td>\n",
       "      <td>1.950000</td>\n",
       "      <td>49.400000</td>\n",
       "      <td>14.480000</td>\n",
       "      <td>44.410000</td>\n",
       "      <td>4.800000</td>\n",
       "      <td>58.360000</td>\n",
       "      <td>278.050000</td>\n",
       "      <td>11.000000</td>\n",
       "      <td>8021.000000</td>\n",
       "    </tr>\n",
       "    <tr>\n",
       "      <th>75%</th>\n",
       "      <td>11.140000</td>\n",
       "      <td>7.480000</td>\n",
       "      <td>14.970000</td>\n",
       "      <td>2.040000</td>\n",
       "      <td>50.300000</td>\n",
       "      <td>14.980000</td>\n",
       "      <td>46.070000</td>\n",
       "      <td>4.920000</td>\n",
       "      <td>60.890000</td>\n",
       "      <td>285.100000</td>\n",
       "      <td>18.000000</td>\n",
       "      <td>8122.000000</td>\n",
       "    </tr>\n",
       "    <tr>\n",
       "      <th>max</th>\n",
       "      <td>11.640000</td>\n",
       "      <td>7.960000</td>\n",
       "      <td>16.360000</td>\n",
       "      <td>2.150000</td>\n",
       "      <td>53.200000</td>\n",
       "      <td>15.670000</td>\n",
       "      <td>51.650000</td>\n",
       "      <td>5.400000</td>\n",
       "      <td>70.520000</td>\n",
       "      <td>317.000000</td>\n",
       "      <td>28.000000</td>\n",
       "      <td>8893.000000</td>\n",
       "    </tr>\n",
       "  </tbody>\n",
       "</table>\n",
       "</div>"
      ],
      "text/plain": [
       "            100m  Long.jump   Shot.put  High.jump       400m  110m.hurdle  \\\n",
       "count  41.000000  41.000000  41.000000  41.000000  41.000000    41.000000   \n",
       "mean   10.998049   7.260000  14.477073   1.976829  49.616341    14.605854   \n",
       "std     0.263023   0.316402   0.824428   0.088951   1.153451     0.471789   \n",
       "min    10.440000   6.610000  12.680000   1.850000  46.810000    13.970000   \n",
       "25%    10.850000   7.030000  13.880000   1.920000  48.930000    14.210000   \n",
       "50%    10.980000   7.300000  14.570000   1.950000  49.400000    14.480000   \n",
       "75%    11.140000   7.480000  14.970000   2.040000  50.300000    14.980000   \n",
       "max    11.640000   7.960000  16.360000   2.150000  53.200000    15.670000   \n",
       "\n",
       "          Discus  Pole.vault   Javeline       1500m       Rank       Points  \n",
       "count  41.000000   41.000000  41.000000   41.000000  41.000000    41.000000  \n",
       "mean   44.325610    4.762439  58.316585  279.024878  12.121951  8005.365854  \n",
       "std     3.377845    0.278000   4.826820   11.673247   7.918949   342.385145  \n",
       "min    37.920000    4.200000  50.310000  262.100000   1.000000  7313.000000  \n",
       "25%    41.900000    4.500000  55.270000  271.020000   6.000000  7802.000000  \n",
       "50%    44.410000    4.800000  58.360000  278.050000  11.000000  8021.000000  \n",
       "75%    46.070000    4.920000  60.890000  285.100000  18.000000  8122.000000  \n",
       "max    51.650000    5.400000  70.520000  317.000000  28.000000  8893.000000  "
      ]
     },
     "execution_count": 25,
     "metadata": {},
     "output_type": "execute_result"
    }
   ],
   "source": [
    "df.describe()"
   ]
  },
  {
   "cell_type": "code",
   "execution_count": 26,
   "metadata": {},
   "outputs": [
    {
     "data": {
      "text/plain": [
       "<matplotlib.axes._subplots.AxesSubplot at 0x19adf92b470>"
      ]
     },
     "execution_count": 26,
     "metadata": {},
     "output_type": "execute_result"
    },
    {
     "data": {
      "image/png": "[encoded data removed]",
      "text/plain": [
       "<Figure size 2160x1440 with 1 Axes>"
      ]
     },
     "metadata": {
      "needs_background": "light"
     },
     "output_type": "display_data"
    }
   ],
   "source": [
    "from matplotlib import pyplot as plt\n",
    "fig, ax = plt.subplots(figsize=(30,20))\n",
    "sns.boxplot(ax=ax,x='100m',y='400m',data=df,hue='Competition')"
   ]
  },
  {
   "cell_type": "markdown",
   "metadata": {},
   "source": [
    "## Correlation matrix\n"
   ]
  },
  {
   "cell_type": "code",
   "execution_count": 27,
   "metadata": {},
   "outputs": [],
   "source": [
    "def plotCorrelationMatrix(df, graphWidth):\n",
    "    df = df.dropna('columns') # drop columns with NaN\n",
    "    df = df[[col for col in df if df[col].nunique() > 1]] # keep columns where there are more than 1 unique values\n",
    "    if df.shape[1] < 2:\n",
    "        print(f'No correlation plots shown: The number of non-NaN or constant columns ({df.shape[1]}) is less than 2')\n",
    "        return\n",
    "    corr = df.corr()\n",
    "    plt.figure(num=None, figsize=(graphWidth, graphWidth), dpi=80, facecolor='w', edgecolor='k')\n",
    "    corrMat = plt.matshow(corr, fignum = 1)\n",
    "    plt.xticks(range(len(corr.columns)), corr.columns, rotation=90 )\n",
    "    plt.yticks(range(len(corr.columns)), corr.columns)\n",
    "    plt.gca().xaxis.tick_bottom()\n",
    "    plt.colorbar(corrMat)\n",
    "    plt.title(f'Correlation Matrix ', fontsize=15)\n",
    "    plt.show()\n",
    "        "
   ]
  },
  {
   "cell_type": "code",
   "execution_count": 28,
   "metadata": {},
   "outputs": [
    {
     "data": {
      "image/png": "[encoded data removed]",
      "text/plain": [
       "<Figure size 640x640 with 2 Axes>"
      ]
     },
     "metadata": {},
     "output_type": "display_data"
    }
   ],
   "source": [
    "plotCorrelationMatrix(df, 8)"
   ]
  },
  {
   "cell_type": "code",
   "execution_count": 29,
   "metadata": {},
   "outputs": [
    {
     "data": {
      "image/png": "[encoded data removed]",
      "text/plain": [
       "<Figure size 432x288 with 1 Axes>"
      ]
     },
     "metadata": {
      "needs_background": "light"
     },
     "output_type": "display_data"
    }
   ],
   "source": [
    "from sklearn import datasets\n",
    "from sklearn.model_selection import cross_val_predict\n",
    "from sklearn import linear_model\n",
    "\n",
    "lr = linear_model.LinearRegression()\n",
    "boston = datasets.load_boston()\n",
    "y = boston.target\n",
    "\n",
    "# cross_val_predict returns an array of the same size\n",
    "# as `y` where each entry\n",
    "# is a prediction obtained by cross validation:\n",
    "predicted = cross_val_predict(lr, boston.data, y, cv=10)\n",
    "fig, ax = plt.subplots()\n",
    "ax.scatter(y, predicted,\n",
    "             edgecolors=(0, 0, 0))\n",
    "ax.plot([y.min(), y.max()], [y.min(), \n",
    "            y.max()], 'k--', lw=4)\n",
    "ax.set_xlabel('100m')\n",
    "ax.set_ylabel('400m')\n",
    "plt.show()"
   ]
  },
  {
   "cell_type": "code",
   "execution_count": 30,
   "metadata": {},
   "outputs": [
    {
     "data": {
      "image/png": "[encoded data removed]",
      "text/plain": [
       "<Figure size 576x360 with 1 Axes>"
      ]
     },
     "metadata": {
      "needs_background": "light"
     },
     "output_type": "display_data"
    }
   ],
   "source": [
    "plt.figure(figsize=(8, 5))\n",
    "plt.scatter(\n",
    "    df['100m'],\n",
    "    df['400m'],\n",
    "    c='blue'\n",
    ")\n",
    "plt.xlabel(\"100m \")\n",
    "plt.ylabel(\"400m\")\n",
    "plt.show()"
   ]
  },
  {
   "cell_type": "code",
   "execution_count": 31,
   "metadata": {},
   "outputs": [
    {
     "name": "stdout",
     "output_type": "stream",
     "text": [
      "The linear model is: Y = 24.522 + 2.2817X\n"
     ]
    }
   ],
   "source": [
    "from sklearn.linear_model import LinearRegression\n",
    "X = df['100m'].values.reshape(-1,1)\n",
    "y = df['400m'].values.reshape(-1,1)\n",
    "reg = LinearRegression()\n",
    "reg.fit(X, y)\n",
    "print(\"The linear model is: Y = {:.5} + {:.5}X\".format(reg.intercept_[0], reg.coef_[0][0]))"
   ]
  },
  {
   "cell_type": "code",
   "execution_count": 32,
   "metadata": {},
   "outputs": [
    {
     "data": {
      "image/png": "[encoded data removed]",
      "text/plain": [
       "<Figure size 576x288 with 1 Axes>"
      ]
     },
     "metadata": {
      "needs_background": "light"
     },
     "output_type": "display_data"
    }
   ],
   "source": [
    "predictions = reg.predict(X)\n",
    "plt.figure(figsize=(8, 4))\n",
    "plt.scatter(\n",
    "    df['100m'],\n",
    "    df['400m'],\n",
    "    c='blue'\n",
    ")\n",
    "plt.plot(\n",
    "    df['100m'],\n",
    "    predictions,\n",
    "    c='red',\n",
    "    linewidth=2\n",
    ")\n",
    "plt.xlabel(\"100m\")\n",
    "plt.ylabel(\"400m\")\n",
    "plt.show()"
   ]
  },
  {
   "cell_type": "markdown",
   "metadata": {},
   "source": [
    "# Inspect the results"
   ]
  },
  {
   "cell_type": "code",
   "execution_count": 33,
   "metadata": {},
   "outputs": [
    {
     "name": "stdout",
     "output_type": "stream",
     "text": [
      "                            OLS Regression Results                            \n",
      "==============================================================================\n",
      "Dep. Variable:                   400m   R-squared:                       0.271\n",
      "Model:                            OLS   Adj. R-squared:                  0.252\n",
      "Method:                 Least Squares   F-statistic:                     14.48\n",
      "Date:                Sat, 20 Jul 2019   Prob (F-statistic):           0.000489\n",
      "Time:                        14:35:55   Log-Likelihood:                -57.052\n",
      "No. Observations:                  41   AIC:                             118.1\n",
      "Df Residuals:                      39   BIC:                             121.5\n",
      "Df Model:                           1                                         \n",
      "Covariance Type:            nonrobust                                         \n",
      "==============================================================================\n",
      "                 coef    std err          t      P>|t|      [0.025      0.975]\n",
      "------------------------------------------------------------------------------\n",
      "const         24.5221      6.597      3.717      0.001      11.178      37.866\n",
      "100m           2.2817      0.600      3.805      0.000       1.069       3.495\n",
      "==============================================================================\n",
      "Omnibus:                        3.256   Durbin-Watson:                   1.849\n",
      "Prob(Omnibus):                  0.196   Jarque-Bera (JB):                2.526\n",
      "Skew:                           0.607   Prob(JB):                        0.283\n",
      "Kurtosis:                       3.082   Cond. No.                         470.\n",
      "==============================================================================\n",
      "\n",
      "Warnings:\n",
      "[1] Standard Errors assume that the covariance matrix of the errors is correctly specified.\n"
     ]
    },
    {
     "name": "stderr",
     "output_type": "stream",
     "text": [
      "C:\\ProgramData\\Anaconda3\\lib\\site-packages\\numpy\\core\\fromnumeric.py:2389: FutureWarning: Method .ptp is deprecated and will be removed in a future version. Use numpy.ptp instead.\n",
      "  return ptp(axis=axis, out=out, **kwargs)\n"
     ]
    }
   ],
   "source": [
    "import statsmodels.api as sm\n",
    "X = df['100m']\n",
    "y = df['400m']\n",
    "X2 = sm.add_constant(X)\n",
    "est = sm.OLS(y, X2)\n",
    "est2 = est.fit()\n",
    "print(est2.summary())"
   ]
  },
  {
   "cell_type": "code",
   "execution_count": null,
   "metadata": {},
   "outputs": [],
   "source": []
  }
 ],
 "metadata": {
  "kernelspec": {
   "display_name": "Python 3",
   "language": "python",
   "name": "python3"
  },
  "language_info": {
   "codemirror_mode": {
    "name": "ipython",
    "version": 3
   },
   "file_extension": ".py",
   "mimetype": "text/x-python",
   "name": "python",
   "nbconvert_exporter": "python",
   "pygments_lexer": "ipython3",
   "version": "3.7.3"
  }
 },
 "nbformat": 4,
 "nbformat_minor": 2
}
